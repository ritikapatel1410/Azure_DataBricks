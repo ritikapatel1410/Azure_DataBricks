{
 "metadata": {
  "language_info": {
   "codemirror_mode": {
    "name": "ipython",
    "version": 3
   },
   "file_extension": ".py",
   "mimetype": "text/x-python",
   "name": "python",
   "nbconvert_exporter": "python",
   "pygments_lexer": "ipython3",
   "version": "3.8.6"
  },
  "orig_nbformat": 2,
  "kernelspec": {
   "name": "python38664bit7909be3e6d1d44cbb44fabf53078d7b8",
   "display_name": "Python 3.8.6 64-bit"
  },
  "metadata": {
   "interpreter": {
    "hash": "31f2aee4e71d21fbe5cf8b01ff0e069b9275f58929596ceb00d14d90e3e16cd6"
   }
  }
 },
 "nbformat": 4,
 "nbformat_minor": 2,
 "cells": [
  {
   "cell_type": "code",
   "execution_count": 17,
   "metadata": {},
   "outputs": [],
   "source": [
    "import tweepy\n",
    "#Used for authentication protocal(OAuth) of Twitter API\n",
    "from tweepy import OAuthHandler\n",
    "#This will allow us to create a stream from twitter\n",
    "from tweepy import Stream\n",
    "#Will allow us to get the data from the port number\n",
    "from tweepy.streaming import StreamListener\n",
    "#It is used to create socket/port on the local machine \n",
    "import socket\n",
    "#json is used because twitter data comes in json format \n",
    "import json"
   ]
  },
  {
   "cell_type": "code",
   "execution_count": 18,
   "metadata": {},
   "outputs": [],
   "source": [
    "consumer_key = \"29Xs5nzsaNbNPLaSZtmTY7ICP\"\n",
    "consumer_secret = \"AKM1aUygwlhHBdM5VEptpyAdDiJK0CSA828IVv2AR4LoivvLeD\"\n",
    "access_token = \"784030272-ZanfSy1YKo4QYUmpNrkhHQNcDGkuA1A4Bzc9qLT8\"\n",
    "access_secret = \"lUa4XK2ftxxXGqs7MQQ9p36mfwxqd4x8OJqfRuQ4Y41u7\"\n",
    "\n",
    "class TweetsListener(StreamListener):\n",
    "    def __init__(self,csocket):\n",
    "        self.client_socket = csocket\n",
    "    def on_data(self, data):\n",
    "        try:\n",
    "            msg = json.loads(data)\n",
    "            print(msg[\"text\"].encode(\"utf-8\"))\n",
    "            self.client_socket.send(msg[\"text\"].encode(\"utf-8\"))\n",
    "            return True\n",
    "        except BaseException as e:\n",
    "            print(\"Error on_data: %s\" % str(e))\n",
    "        return True\n",
    "    def on_error(self, status):\n",
    "        print(status)\n",
    "        return True"
   ]
  },
  {
   "cell_type": "code",
   "execution_count": 19,
   "metadata": {},
   "outputs": [],
   "source": [
    "def sendData(c_socket):\n",
    "    auth = OAuthHandler(consumer_key, consumer_secret)\n",
    "    auth.set_access_token(access_token,access_secret)\n",
    "    twitter_stream = Stream(auth, TweetsListener(c_socket))\n",
    "    twitter_stream.filter(track=[\"BillGates\"])"
   ]
  },
  {
   "cell_type": "code",
   "execution_count": 20,
   "metadata": {},
   "outputs": [
    {
     "output_type": "error",
     "ename": "OSError",
     "evalue": "[Errno 98] Address already in use",
     "traceback": [
      "\u001b[0;31m---------------------------------------------------------------------------\u001b[0m",
      "\u001b[0;31mOSError\u001b[0m                                   Traceback (most recent call last)",
      "\u001b[0;32m<ipython-input-20-6cab1705dc64>\u001b[0m in \u001b[0;36m<module>\u001b[0;34m\u001b[0m\n\u001b[1;32m      3\u001b[0m     \u001b[0mhost\u001b[0m \u001b[0;34m=\u001b[0m \u001b[0;34m\"127.0.0.1\"\u001b[0m \u001b[0;31m#Get local machine name\u001b[0m\u001b[0;34m\u001b[0m\u001b[0;34m\u001b[0m\u001b[0m\n\u001b[1;32m      4\u001b[0m     \u001b[0mport\u001b[0m \u001b[0;34m=\u001b[0m \u001b[0;36m9091\u001b[0m \u001b[0;31m#Reserve a port for my service\u001b[0m\u001b[0;34m\u001b[0m\u001b[0;34m\u001b[0m\u001b[0m\n\u001b[0;32m----> 5\u001b[0;31m     \u001b[0ms\u001b[0m\u001b[0;34m.\u001b[0m\u001b[0mbind\u001b[0m\u001b[0;34m(\u001b[0m\u001b[0;34m(\u001b[0m\u001b[0mhost\u001b[0m\u001b[0;34m,\u001b[0m \u001b[0mport\u001b[0m\u001b[0;34m)\u001b[0m\u001b[0;34m)\u001b[0m \u001b[0;31m#Bind to the port\u001b[0m\u001b[0;34m\u001b[0m\u001b[0;34m\u001b[0m\u001b[0m\n\u001b[0m\u001b[1;32m      6\u001b[0m     \u001b[0mprint\u001b[0m\u001b[0;34m(\u001b[0m\u001b[0;34m\"Listening on port: %s\"\u001b[0m \u001b[0;34m%\u001b[0m \u001b[0mstr\u001b[0m\u001b[0;34m(\u001b[0m\u001b[0mport\u001b[0m\u001b[0;34m)\u001b[0m\u001b[0;34m)\u001b[0m\u001b[0;34m\u001b[0m\u001b[0;34m\u001b[0m\u001b[0m\n\u001b[1;32m      7\u001b[0m     \u001b[0ms\u001b[0m\u001b[0;34m.\u001b[0m\u001b[0mlisten\u001b[0m\u001b[0;34m(\u001b[0m\u001b[0;36m5\u001b[0m\u001b[0;34m)\u001b[0m  \u001b[0;31m#wait for the client connection\u001b[0m\u001b[0;34m\u001b[0m\u001b[0;34m\u001b[0m\u001b[0m\n",
      "\u001b[0;31mOSError\u001b[0m: [Errno 98] Address already in use"
     ]
    }
   ],
   "source": [
    "\n",
    "if __name__ == \"__main__\":\n",
    "    s = socket.socket() #create a socket object\n",
    "    host = \"127.0.0.1\" #Get local machine name\n",
    "    port = 9091 #Reserve a port for my service\n",
    "    s.bind((host, port)) #Bind to the port\n",
    "    print(\"Listening on port: %s\" % str(port))\n",
    "    s.listen(5)  #wait for the client connection\n",
    "    c, addr = s.accept() #establishing connection with client\n",
    "    print(\"Received request from: \" + str(addr)) \n",
    "    sendData(c)"
   ]
  },
  {
   "cell_type": "code",
   "execution_count": null,
   "metadata": {},
   "outputs": [],
   "source": []
  }
 ]
}